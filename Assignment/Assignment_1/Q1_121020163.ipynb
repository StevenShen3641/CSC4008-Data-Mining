{
  "nbformat": 4,
  "nbformat_minor": 0,
  "metadata": {
    "colab": {
      "provenance": []
    },
    "kernelspec": {
      "name": "python3",
      "display_name": "Python 3"
    },
    "language_info": {
      "name": "python"
    }
  },
  "cells": [
    {
      "cell_type": "markdown",
      "source": [
        "### Q1\n",
        "Setup"
      ],
      "metadata": {
        "id": "NiEDV-6QvM4X"
      }
    },
    {
      "cell_type": "code",
      "source": [
        "!pip install pyspark\n",
        "!pip install -U -q PyDrive\n",
        "!apt install openjdk-8-jdk-headless -qq\n",
        "import os\n",
        "os.environ[\"JAVA_HOME\"] = \"/usr/lib/jvm/java-8-openjdk-amd64\""
      ],
      "metadata": {
        "colab": {
          "base_uri": "https://localhost:8080/"
        },
        "id": "ZMdcm3CDvR5w",
        "outputId": "d895256d-6d69-46a0-d5e1-df92df6cceca"
      },
      "execution_count": 1,
      "outputs": [
        {
          "output_type": "stream",
          "name": "stdout",
          "text": [
            "Collecting pyspark\n",
            "  Downloading pyspark-3.5.0.tar.gz (316.9 MB)\n",
            "\u001b[2K     \u001b[90m━━━━━━━━━━━━━━━━━━━━━━━━━━━━━━━━━━━━━━━\u001b[0m \u001b[32m316.9/316.9 MB\u001b[0m \u001b[31m2.6 MB/s\u001b[0m eta \u001b[36m0:00:00\u001b[0m\n",
            "\u001b[?25h  Preparing metadata (setup.py) ... \u001b[?25l\u001b[?25hdone\n",
            "Requirement already satisfied: py4j==0.10.9.7 in /usr/local/lib/python3.10/dist-packages (from pyspark) (0.10.9.7)\n",
            "Building wheels for collected packages: pyspark\n",
            "  Building wheel for pyspark (setup.py) ... \u001b[?25l\u001b[?25hdone\n",
            "  Created wheel for pyspark: filename=pyspark-3.5.0-py2.py3-none-any.whl size=317425344 sha256=796301fbb1f45ef0153d435a32197fcb020380e6dd6e39acf1a179621bacc85c\n",
            "  Stored in directory: /root/.cache/pip/wheels/41/4e/10/c2cf2467f71c678cfc8a6b9ac9241e5e44a01940da8fbb17fc\n",
            "Successfully built pyspark\n",
            "Installing collected packages: pyspark\n",
            "Successfully installed pyspark-3.5.0\n",
            "The following additional packages will be installed:\n",
            "  libxtst6 openjdk-8-jre-headless\n",
            "Suggested packages:\n",
            "  openjdk-8-demo openjdk-8-source libnss-mdns fonts-dejavu-extra fonts-nanum\n",
            "  fonts-ipafont-gothic fonts-ipafont-mincho fonts-wqy-microhei\n",
            "  fonts-wqy-zenhei fonts-indic\n",
            "The following NEW packages will be installed:\n",
            "  libxtst6 openjdk-8-jdk-headless openjdk-8-jre-headless\n",
            "0 upgraded, 3 newly installed, 0 to remove and 18 not upgraded.\n",
            "Need to get 39.7 MB of archives.\n",
            "After this operation, 144 MB of additional disk space will be used.\n",
            "Selecting previously unselected package libxtst6:amd64.\n",
            "(Reading database ... 120875 files and directories currently installed.)\n",
            "Preparing to unpack .../libxtst6_2%3a1.2.3-1build4_amd64.deb ...\n",
            "Unpacking libxtst6:amd64 (2:1.2.3-1build4) ...\n",
            "Selecting previously unselected package openjdk-8-jre-headless:amd64.\n",
            "Preparing to unpack .../openjdk-8-jre-headless_8u382-ga-1~22.04.1_amd64.deb ...\n",
            "Unpacking openjdk-8-jre-headless:amd64 (8u382-ga-1~22.04.1) ...\n",
            "Selecting previously unselected package openjdk-8-jdk-headless:amd64.\n",
            "Preparing to unpack .../openjdk-8-jdk-headless_8u382-ga-1~22.04.1_amd64.deb ...\n",
            "Unpacking openjdk-8-jdk-headless:amd64 (8u382-ga-1~22.04.1) ...\n",
            "Setting up libxtst6:amd64 (2:1.2.3-1build4) ...\n",
            "Setting up openjdk-8-jre-headless:amd64 (8u382-ga-1~22.04.1) ...\n",
            "update-alternatives: using /usr/lib/jvm/java-8-openjdk-amd64/jre/bin/orbd to provide /usr/bin/orbd (orbd) in auto mode\n",
            "update-alternatives: using /usr/lib/jvm/java-8-openjdk-amd64/jre/bin/servertool to provide /usr/bin/servertool (servertool) in auto mode\n",
            "update-alternatives: using /usr/lib/jvm/java-8-openjdk-amd64/jre/bin/tnameserv to provide /usr/bin/tnameserv (tnameserv) in auto mode\n",
            "Setting up openjdk-8-jdk-headless:amd64 (8u382-ga-1~22.04.1) ...\n",
            "update-alternatives: using /usr/lib/jvm/java-8-openjdk-amd64/bin/clhsdb to provide /usr/bin/clhsdb (clhsdb) in auto mode\n",
            "update-alternatives: using /usr/lib/jvm/java-8-openjdk-amd64/bin/extcheck to provide /usr/bin/extcheck (extcheck) in auto mode\n",
            "update-alternatives: using /usr/lib/jvm/java-8-openjdk-amd64/bin/hsdb to provide /usr/bin/hsdb (hsdb) in auto mode\n",
            "update-alternatives: using /usr/lib/jvm/java-8-openjdk-amd64/bin/idlj to provide /usr/bin/idlj (idlj) in auto mode\n",
            "update-alternatives: using /usr/lib/jvm/java-8-openjdk-amd64/bin/javah to provide /usr/bin/javah (javah) in auto mode\n",
            "update-alternatives: using /usr/lib/jvm/java-8-openjdk-amd64/bin/jhat to provide /usr/bin/jhat (jhat) in auto mode\n",
            "update-alternatives: using /usr/lib/jvm/java-8-openjdk-amd64/bin/jsadebugd to provide /usr/bin/jsadebugd (jsadebugd) in auto mode\n",
            "update-alternatives: using /usr/lib/jvm/java-8-openjdk-amd64/bin/native2ascii to provide /usr/bin/native2ascii (native2ascii) in auto mode\n",
            "update-alternatives: using /usr/lib/jvm/java-8-openjdk-amd64/bin/schemagen to provide /usr/bin/schemagen (schemagen) in auto mode\n",
            "update-alternatives: using /usr/lib/jvm/java-8-openjdk-amd64/bin/wsgen to provide /usr/bin/wsgen (wsgen) in auto mode\n",
            "update-alternatives: using /usr/lib/jvm/java-8-openjdk-amd64/bin/wsimport to provide /usr/bin/wsimport (wsimport) in auto mode\n",
            "update-alternatives: using /usr/lib/jvm/java-8-openjdk-amd64/bin/xjc to provide /usr/bin/xjc (xjc) in auto mode\n",
            "Processing triggers for libc-bin (2.35-0ubuntu3.1) ...\n",
            "/sbin/ldconfig.real: /usr/local/lib/libtbbmalloc.so.2 is not a symbolic link\n",
            "\n",
            "/sbin/ldconfig.real: /usr/local/lib/libtbbmalloc_proxy.so.2 is not a symbolic link\n",
            "\n",
            "/sbin/ldconfig.real: /usr/local/lib/libtbbbind_2_0.so.3 is not a symbolic link\n",
            "\n",
            "/sbin/ldconfig.real: /usr/local/lib/libtbbbind_2_5.so.3 is not a symbolic link\n",
            "\n",
            "/sbin/ldconfig.real: /usr/local/lib/libtbbbind.so.3 is not a symbolic link\n",
            "\n",
            "/sbin/ldconfig.real: /usr/local/lib/libtbb.so.12 is not a symbolic link\n",
            "\n"
          ]
        }
      ]
    },
    {
      "cell_type": "code",
      "source": [
        "import pyspark\n",
        "from pyspark import SparkContext, SparkConf\n",
        "from pyspark.sql import *\n",
        "from pyspark.sql.functions import *\n",
        "import pandas as pd\n",
        "import numpy as np"
      ],
      "metadata": {
        "id": "1oxVlNfywgd-"
      },
      "execution_count": 2,
      "outputs": []
    },
    {
      "cell_type": "code",
      "source": [
        "# initiate SparkContext\n",
        "conf = SparkConf().setAppName(\"ChihaoShen\").setMaster(\"local[*]\")\n",
        "sc = SparkContext(conf=conf)\n",
        "spark = SparkSession.builder.getOrCreate()\n",
        "spark"
      ],
      "metadata": {
        "id": "O6_JQ24Vx-A6",
        "colab": {
          "base_uri": "https://localhost:8080/",
          "height": 214
        },
        "outputId": "76b8f93e-59c4-4ab3-cd53-cf0be5425590"
      },
      "execution_count": 3,
      "outputs": [
        {
          "output_type": "execute_result",
          "data": {
            "text/plain": [
              "<pyspark.sql.session.SparkSession at 0x7edb5dc15300>"
            ],
            "text/html": [
              "\n",
              "            <div>\n",
              "                <p><b>SparkSession - in-memory</b></p>\n",
              "                \n",
              "        <div>\n",
              "            <p><b>SparkContext</b></p>\n",
              "\n",
              "            <p><a href=\"http://01202d111a7b:4040\">Spark UI</a></p>\n",
              "\n",
              "            <dl>\n",
              "              <dt>Version</dt>\n",
              "                <dd><code>v3.5.0</code></dd>\n",
              "              <dt>Master</dt>\n",
              "                <dd><code>local[*]</code></dd>\n",
              "              <dt>AppName</dt>\n",
              "                <dd><code>ChihaoShen</code></dd>\n",
              "            </dl>\n",
              "        </div>\n",
              "        \n",
              "            </div>\n",
              "        "
            ]
          },
          "metadata": {},
          "execution_count": 3
        }
      ]
    },
    {
      "cell_type": "code",
      "source": [
        "!pwd"
      ],
      "metadata": {
        "colab": {
          "base_uri": "https://localhost:8080/"
        },
        "id": "jUFCNAsN6VQc",
        "outputId": "8cb1ef72-56a3-4248-eea3-b3f0ea104fc4"
      },
      "execution_count": 4,
      "outputs": [
        {
          "output_type": "stream",
          "name": "stdout",
          "text": [
            "/content\n"
          ]
        }
      ]
    },
    {
      "cell_type": "code",
      "source": [
        "# read files\n",
        "stores = spark.read.option(\"header\", True).csv(\"/content/drive/MyDrive/CSC4008/ass/data-Q1/stores-data-set.csv\")\n",
        "sales = spark.read.option(\"header\", True).csv(\"/content/drive/MyDrive/CSC4008/ass/data-Q1/sales-data-set.csv\")\n",
        "stores.na.drop()\n",
        "sales.na.drop()"
      ],
      "metadata": {
        "id": "jebmKlqb8UPH",
        "colab": {
          "base_uri": "https://localhost:8080/"
        },
        "outputId": "7584dd0b-463e-486c-8eeb-107fe2319042"
      },
      "execution_count": 5,
      "outputs": [
        {
          "output_type": "execute_result",
          "data": {
            "text/plain": [
              "DataFrame[Store: string, Dept: string, Date: string, Weekly_Sales: string, IsHoliday: string]"
            ]
          },
          "metadata": {},
          "execution_count": 5
        }
      ]
    },
    {
      "cell_type": "code",
      "source": [
        "stores.show(5)\n",
        "sales.show(5)\n",
        "print(\"stores schema: \")\n",
        "stores.printSchema()\n",
        "print(\"sales schema: \")\n",
        "sales.printSchema()"
      ],
      "metadata": {
        "colab": {
          "base_uri": "https://localhost:8080/"
        },
        "id": "3zkT3Cdt8r8R",
        "outputId": "5bd3330d-a75f-451e-835d-5c1f9041c81d"
      },
      "execution_count": 6,
      "outputs": [
        {
          "output_type": "stream",
          "name": "stdout",
          "text": [
            "+-----+----+------+\n",
            "|Store|Type|  Size|\n",
            "+-----+----+------+\n",
            "|    1|   A|151315|\n",
            "|    2|   A|202307|\n",
            "|    3|   B| 37392|\n",
            "|    4|   A|205863|\n",
            "|    5|   B| 34875|\n",
            "+-----+----+------+\n",
            "only showing top 5 rows\n",
            "\n",
            "+-----+----+----------+------------+---------+\n",
            "|Store|Dept|      Date|Weekly_Sales|IsHoliday|\n",
            "+-----+----+----------+------------+---------+\n",
            "|    1|   1|05/02/2010|     24924.5|    FALSE|\n",
            "|    1|   1|12/02/2010|    46039.49|     TRUE|\n",
            "|    1|   1|19/02/2010|    41595.55|    FALSE|\n",
            "|    1|   1|26/02/2010|    19403.54|    FALSE|\n",
            "|    1|   1|05/03/2010|     21827.9|    FALSE|\n",
            "+-----+----+----------+------------+---------+\n",
            "only showing top 5 rows\n",
            "\n",
            "stores schema: \n",
            "root\n",
            " |-- Store: string (nullable = true)\n",
            " |-- Type: string (nullable = true)\n",
            " |-- Size: string (nullable = true)\n",
            "\n",
            "sales schema: \n",
            "root\n",
            " |-- Store: string (nullable = true)\n",
            " |-- Dept: string (nullable = true)\n",
            " |-- Date: string (nullable = true)\n",
            " |-- Weekly_Sales: string (nullable = true)\n",
            " |-- IsHoliday: string (nullable = true)\n",
            "\n"
          ]
        }
      ]
    },
    {
      "cell_type": "code",
      "source": [
        "# change data types\n",
        "stores = stores.selectExpr([\"cast(Store as int) Store\", \"Type\", \"cast(Size as int) Size\"])\n",
        "sales = sales.selectExpr([\"cast(Store as int) Store\", \"cast(Dept as int) Dept\", \"Date\", \"cast(Weekly_Sales as double) Weekly_Sales\", \"IsHoliday\"])\n",
        "stores.show(5)\n",
        "sales.show(5)\n",
        "print(\"stores schema: \")\n",
        "stores.printSchema()\n",
        "print(\"sales schema: \")\n",
        "sales.printSchema()"
      ],
      "metadata": {
        "id": "1vCob-XwAI06",
        "colab": {
          "base_uri": "https://localhost:8080/"
        },
        "outputId": "b87108b2-cdb4-45e5-c361-304f8ef3fd77"
      },
      "execution_count": 7,
      "outputs": [
        {
          "output_type": "stream",
          "name": "stdout",
          "text": [
            "+-----+----+------+\n",
            "|Store|Type|  Size|\n",
            "+-----+----+------+\n",
            "|    1|   A|151315|\n",
            "|    2|   A|202307|\n",
            "|    3|   B| 37392|\n",
            "|    4|   A|205863|\n",
            "|    5|   B| 34875|\n",
            "+-----+----+------+\n",
            "only showing top 5 rows\n",
            "\n",
            "+-----+----+----------+------------+---------+\n",
            "|Store|Dept|      Date|Weekly_Sales|IsHoliday|\n",
            "+-----+----+----------+------------+---------+\n",
            "|    1|   1|05/02/2010|     24924.5|    FALSE|\n",
            "|    1|   1|12/02/2010|    46039.49|     TRUE|\n",
            "|    1|   1|19/02/2010|    41595.55|    FALSE|\n",
            "|    1|   1|26/02/2010|    19403.54|    FALSE|\n",
            "|    1|   1|05/03/2010|     21827.9|    FALSE|\n",
            "+-----+----+----------+------------+---------+\n",
            "only showing top 5 rows\n",
            "\n",
            "stores schema: \n",
            "root\n",
            " |-- Store: integer (nullable = true)\n",
            " |-- Type: string (nullable = true)\n",
            " |-- Size: integer (nullable = true)\n",
            "\n",
            "sales schema: \n",
            "root\n",
            " |-- Store: integer (nullable = true)\n",
            " |-- Dept: integer (nullable = true)\n",
            " |-- Date: string (nullable = true)\n",
            " |-- Weekly_Sales: double (nullable = true)\n",
            " |-- IsHoliday: string (nullable = true)\n",
            "\n"
          ]
        }
      ]
    },
    {
      "cell_type": "markdown",
      "source": [
        "### Q1(a)"
      ],
      "metadata": {
        "id": "__r9ycXWFbUQ"
      }
    },
    {
      "cell_type": "code",
      "source": [
        "sales_joined = sales.join(stores, [\"Store\"]).sort(\"Store\")\n",
        "store_type_sales = sales_joined.groupBy(\"Type\").agg(sum(\"Weekly_Sales\").alias(\"Total_Sales\")).sort(\"Type\")\n",
        "store_type_sales.show()"
      ],
      "metadata": {
        "colab": {
          "base_uri": "https://localhost:8080/"
        },
        "id": "-gOv7aMw93H4",
        "outputId": "69e2f000-9817-4e42-adb6-41ed01eef6ba"
      },
      "execution_count": 8,
      "outputs": [
        {
          "output_type": "stream",
          "name": "stdout",
          "text": [
            "+----+--------------------+\n",
            "|Type|         Total_Sales|\n",
            "+----+--------------------+\n",
            "|   A|4.3310147227500725E9|\n",
            "|   B|2.0007007368200114E9|\n",
            "|   C| 4.055035275399986E8|\n",
            "+----+--------------------+\n",
            "\n"
          ]
        }
      ]
    },
    {
      "cell_type": "markdown",
      "source": [
        "### Q1(b)"
      ],
      "metadata": {
        "id": "SI1jljQnFhyT"
      }
    },
    {
      "cell_type": "code",
      "source": [
        "average_sales = sales.groupBy(\"Date\", \"IsHoliday\").agg((sum(\"Weekly_Sales\")).alias(\"Sales\")).groupBy(\"IsHoliday\").agg((sum(\"Sales\")/count(\"*\")).alias(\"Average_Sales\"))\n",
        "average_sales.na.drop().show()"
      ],
      "metadata": {
        "colab": {
          "base_uri": "https://localhost:8080/"
        },
        "id": "R0CacHLwMrkr",
        "outputId": "4185b7e0-b250-44d9-e8d6-b83248986c49"
      },
      "execution_count": 9,
      "outputs": [
        {
          "output_type": "stream",
          "name": "stdout",
          "text": [
            "+---------+-------------------+\n",
            "|IsHoliday|      Average_Sales|\n",
            "+---------+-------------------+\n",
            "|    FALSE|4.685653710939851E7|\n",
            "|     TRUE|5.052995515600001E7|\n",
            "+---------+-------------------+\n",
            "\n"
          ]
        }
      ]
    }
  ]
}