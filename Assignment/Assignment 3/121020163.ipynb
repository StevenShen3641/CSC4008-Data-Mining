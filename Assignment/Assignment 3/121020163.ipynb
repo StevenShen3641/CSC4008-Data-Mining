{
  "nbformat": 4,
  "nbformat_minor": 0,
  "metadata": {
    "colab": {
      "provenance": []
    },
    "kernelspec": {
      "name": "python3",
      "display_name": "Python 3"
    },
    "language_info": {
      "name": "python"
    }
  },
  "cells": [
    {
      "cell_type": "code",
      "execution_count": null,
      "metadata": {
        "colab": {
          "base_uri": "https://localhost:8080/"
        },
        "id": "QxcViHZC-Ai7",
        "outputId": "bb2d0cb7-fb02-4421-bc32-a11e665599c8"
      },
      "outputs": [
        {
          "output_type": "stream",
          "name": "stdout",
          "text": [
            "Collecting pyspark\n",
            "  Downloading pyspark-3.5.0.tar.gz (316.9 MB)\n",
            "\u001b[2K     \u001b[90m━━━━━━━━━━━━━━━━━━━━━━━━━━━━━━━━━━━━━━━━\u001b[0m \u001b[32m316.9/316.9 MB\u001b[0m \u001b[31m2.8 MB/s\u001b[0m eta \u001b[36m0:00:00\u001b[0m\n",
            "\u001b[?25h  Preparing metadata (setup.py) ... \u001b[?25l\u001b[?25hdone\n",
            "Requirement already satisfied: py4j==0.10.9.7 in /usr/local/lib/python3.10/dist-packages (from pyspark) (0.10.9.7)\n",
            "Building wheels for collected packages: pyspark\n",
            "  Building wheel for pyspark (setup.py) ... \u001b[?25l\u001b[?25hdone\n",
            "  Created wheel for pyspark: filename=pyspark-3.5.0-py2.py3-none-any.whl size=317425344 sha256=b651c85028de7c80aef2a6c277e73c741ccafdd0db842a7f82d32b39a7f407ef\n",
            "  Stored in directory: /root/.cache/pip/wheels/41/4e/10/c2cf2467f71c678cfc8a6b9ac9241e5e44a01940da8fbb17fc\n",
            "Successfully built pyspark\n",
            "Installing collected packages: pyspark\n",
            "Successfully installed pyspark-3.5.0\n",
            "The following additional packages will be installed:\n",
            "  libxtst6 openjdk-8-jre-headless\n",
            "Suggested packages:\n",
            "  openjdk-8-demo openjdk-8-source libnss-mdns fonts-dejavu-extra fonts-nanum fonts-ipafont-gothic\n",
            "  fonts-ipafont-mincho fonts-wqy-microhei fonts-wqy-zenhei fonts-indic\n",
            "The following NEW packages will be installed:\n",
            "  libxtst6 openjdk-8-jdk-headless openjdk-8-jre-headless\n",
            "0 upgraded, 3 newly installed, 0 to remove and 19 not upgraded.\n",
            "Need to get 39.7 MB of archives.\n",
            "After this operation, 144 MB of additional disk space will be used.\n",
            "Selecting previously unselected package libxtst6:amd64.\n",
            "(Reading database ... 120874 files and directories currently installed.)\n",
            "Preparing to unpack .../libxtst6_2%3a1.2.3-1build4_amd64.deb ...\n",
            "Unpacking libxtst6:amd64 (2:1.2.3-1build4) ...\n",
            "Selecting previously unselected package openjdk-8-jre-headless:amd64.\n",
            "Preparing to unpack .../openjdk-8-jre-headless_8u382-ga-1~22.04.1_amd64.deb ...\n",
            "Unpacking openjdk-8-jre-headless:amd64 (8u382-ga-1~22.04.1) ...\n",
            "Selecting previously unselected package openjdk-8-jdk-headless:amd64.\n",
            "Preparing to unpack .../openjdk-8-jdk-headless_8u382-ga-1~22.04.1_amd64.deb ...\n",
            "Unpacking openjdk-8-jdk-headless:amd64 (8u382-ga-1~22.04.1) ...\n",
            "Setting up libxtst6:amd64 (2:1.2.3-1build4) ...\n",
            "Setting up openjdk-8-jre-headless:amd64 (8u382-ga-1~22.04.1) ...\n",
            "update-alternatives: using /usr/lib/jvm/java-8-openjdk-amd64/jre/bin/orbd to provide /usr/bin/orbd (orbd) in auto mode\n",
            "update-alternatives: using /usr/lib/jvm/java-8-openjdk-amd64/jre/bin/servertool to provide /usr/bin/servertool (servertool) in auto mode\n",
            "update-alternatives: using /usr/lib/jvm/java-8-openjdk-amd64/jre/bin/tnameserv to provide /usr/bin/tnameserv (tnameserv) in auto mode\n",
            "Setting up openjdk-8-jdk-headless:amd64 (8u382-ga-1~22.04.1) ...\n",
            "update-alternatives: using /usr/lib/jvm/java-8-openjdk-amd64/bin/clhsdb to provide /usr/bin/clhsdb (clhsdb) in auto mode\n",
            "update-alternatives: using /usr/lib/jvm/java-8-openjdk-amd64/bin/extcheck to provide /usr/bin/extcheck (extcheck) in auto mode\n",
            "update-alternatives: using /usr/lib/jvm/java-8-openjdk-amd64/bin/hsdb to provide /usr/bin/hsdb (hsdb) in auto mode\n",
            "update-alternatives: using /usr/lib/jvm/java-8-openjdk-amd64/bin/idlj to provide /usr/bin/idlj (idlj) in auto mode\n",
            "update-alternatives: using /usr/lib/jvm/java-8-openjdk-amd64/bin/javah to provide /usr/bin/javah (javah) in auto mode\n",
            "update-alternatives: using /usr/lib/jvm/java-8-openjdk-amd64/bin/jhat to provide /usr/bin/jhat (jhat) in auto mode\n",
            "update-alternatives: using /usr/lib/jvm/java-8-openjdk-amd64/bin/jsadebugd to provide /usr/bin/jsadebugd (jsadebugd) in auto mode\n",
            "update-alternatives: using /usr/lib/jvm/java-8-openjdk-amd64/bin/native2ascii to provide /usr/bin/native2ascii (native2ascii) in auto mode\n",
            "update-alternatives: using /usr/lib/jvm/java-8-openjdk-amd64/bin/schemagen to provide /usr/bin/schemagen (schemagen) in auto mode\n",
            "update-alternatives: using /usr/lib/jvm/java-8-openjdk-amd64/bin/wsgen to provide /usr/bin/wsgen (wsgen) in auto mode\n",
            "update-alternatives: using /usr/lib/jvm/java-8-openjdk-amd64/bin/wsimport to provide /usr/bin/wsimport (wsimport) in auto mode\n",
            "update-alternatives: using /usr/lib/jvm/java-8-openjdk-amd64/bin/xjc to provide /usr/bin/xjc (xjc) in auto mode\n",
            "Processing triggers for libc-bin (2.35-0ubuntu3.1) ...\n",
            "/sbin/ldconfig.real: /usr/local/lib/libtbbbind_2_0.so.3 is not a symbolic link\n",
            "\n",
            "/sbin/ldconfig.real: /usr/local/lib/libtbbbind_2_5.so.3 is not a symbolic link\n",
            "\n",
            "/sbin/ldconfig.real: /usr/local/lib/libtbb.so.12 is not a symbolic link\n",
            "\n",
            "/sbin/ldconfig.real: /usr/local/lib/libtbbbind.so.3 is not a symbolic link\n",
            "\n",
            "/sbin/ldconfig.real: /usr/local/lib/libtbbmalloc_proxy.so.2 is not a symbolic link\n",
            "\n",
            "/sbin/ldconfig.real: /usr/local/lib/libtbbmalloc.so.2 is not a symbolic link\n",
            "\n"
          ]
        }
      ],
      "source": [
        "!pip install pyspark\n",
        "!pip install -U -q PyDrive\n",
        "!apt install openjdk-8-jdk-headless -qq\n",
        "import os\n",
        "os.environ[\"JAVA_HOME\"] = \"/usr/lib/jvm/java-8-openjdk-amd64\""
      ]
    },
    {
      "cell_type": "code",
      "source": [
        "import pyspark\n",
        "from pyspark import SparkContext, SparkConf\n",
        "from pyspark.sql import *\n",
        "import pandas as pd\n",
        "import numpy as np"
      ],
      "metadata": {
        "id": "FqugHVb6-EJ9"
      },
      "execution_count": null,
      "outputs": []
    },
    {
      "cell_type": "code",
      "source": [
        "# initiate SparkContext\n",
        "conf = SparkConf().setAppName(\"ChihaoShen\").setMaster(\"local[*]\")\n",
        "sc = SparkContext(conf=conf)\n",
        "spark = SparkSession.builder.getOrCreate()\n",
        "spark"
      ],
      "metadata": {
        "colab": {
          "base_uri": "https://localhost:8080/",
          "height": 219
        },
        "id": "XKY8neh9-SdK",
        "outputId": "089fb154-b202-4e03-d681-b2d4a44a18c9"
      },
      "execution_count": null,
      "outputs": [
        {
          "output_type": "execute_result",
          "data": {
            "text/plain": [
              "<pyspark.sql.session.SparkSession at 0x7a03fe81ce20>"
            ],
            "text/html": [
              "\n",
              "            <div>\n",
              "                <p><b>SparkSession - in-memory</b></p>\n",
              "                \n",
              "        <div>\n",
              "            <p><b>SparkContext</b></p>\n",
              "\n",
              "            <p><a href=\"http://3de128fc692d:4040\">Spark UI</a></p>\n",
              "\n",
              "            <dl>\n",
              "              <dt>Version</dt>\n",
              "                <dd><code>v3.5.0</code></dd>\n",
              "              <dt>Master</dt>\n",
              "                <dd><code>local[*]</code></dd>\n",
              "              <dt>AppName</dt>\n",
              "                <dd><code>ChihaoShen</code></dd>\n",
              "            </dl>\n",
              "        </div>\n",
              "        \n",
              "            </div>\n",
              "        "
            ]
          },
          "metadata": {},
          "execution_count": 3
        }
      ]
    },
    {
      "cell_type": "code",
      "source": [
        "# read data\n",
        "graph_small = sc.textFile(\"/content/drive/MyDrive/CSC4008/ass/ass2/A3-data/graph-small.txt\")\n",
        "graph_full = data = sc.textFile(\"/content/drive/MyDrive/CSC4008/ass/ass2/A3-data/graph-full.txt\")"
      ],
      "metadata": {
        "id": "KjF8psTJ-Uh4"
      },
      "execution_count": null,
      "outputs": []
    },
    {
      "cell_type": "code",
      "source": [
        "# specify graph\n",
        "graph = graph_full\n",
        "n = 1000  # number of nodes"
      ],
      "metadata": {
        "id": "vBNi8QkNKobK"
      },
      "execution_count": null,
      "outputs": []
    },
    {
      "cell_type": "code",
      "source": [
        "# PageRank\n",
        "def set_matrix(x):\n",
        "  v = np.zeros(n)\n",
        "  v[x[1][0]] = 1 / x[1][1]\n",
        "  return (x[0], v)\n",
        "\n",
        "# change the starting node from 1 to 0\n",
        "edges = graph.map(lambda line: line.split()).map(lambda x: (int(x[0]) - 1, int(x[1]) - 1)).distinct()\n",
        "matrix = edges.map(lambda e: (e[0], ([e[1]], 1)))\n",
        "matrix = matrix.reduceByKey(lambda x, y: (x[0] + y[0], x[1] + y[1])).sortByKey()\n",
        "matrix = matrix.map(set_matrix)"
      ],
      "metadata": {
        "id": "d37ba62l6rNr"
      },
      "execution_count": null,
      "outputs": []
    },
    {
      "cell_type": "code",
      "source": [
        "r = np.full(n, 1/n)\n",
        "beta = 0.8\n",
        "for i in range(40):\n",
        "  r = matrix.map(lambda x: x[1] * r[x[0]]).reduce(lambda x, y: x + y)\n",
        "  r = beta * r + (1 - beta) / n"
      ],
      "metadata": {
        "id": "DhElnHc8kf4y"
      },
      "execution_count": null,
      "outputs": []
    },
    {
      "cell_type": "code",
      "source": [
        "top5 = np.argsort(r)[-5:] + 1\n",
        "top5 = top5[::-1]\n",
        "print(\"The top 5 ids with the highest score are\")\n",
        "for i in range(5):\n",
        "  print(f\"id: {top5[i]}; score: {r[top5[i] - 1]}\")"
      ],
      "metadata": {
        "colab": {
          "base_uri": "https://localhost:8080/"
        },
        "id": "6n1lgz1x24i0",
        "outputId": "2a6c20a3-0573-409b-ad5d-cce01ac01ebd"
      },
      "execution_count": null,
      "outputs": [
        {
          "output_type": "stream",
          "name": "stdout",
          "text": [
            "The top 5 ids with the highest score are\n",
            "id: 263; score: 0.0020202911815182184\n",
            "id: 537; score: 0.0019433415714531497\n",
            "id: 965; score: 0.0019254478071662631\n",
            "id: 243; score: 0.001852634016241731\n",
            "id: 285; score: 0.0018273721700645144\n"
          ]
        }
      ]
    },
    {
      "cell_type": "code",
      "source": [
        "bottom5 = np.argsort(r)[:5] + 1\n",
        "print(\"The bottom 5 ids with the lowest score are\")\n",
        "for i in range(5):\n",
        "  print(f\"id: {bottom5[i]}; score: {r[bottom5[i] - 1]}\")"
      ],
      "metadata": {
        "colab": {
          "base_uri": "https://localhost:8080/"
        },
        "id": "rMgbhWxl3NvH",
        "outputId": "98453a2f-bdf1-43b6-adcc-376ac0e33d56"
      },
      "execution_count": null,
      "outputs": [
        {
          "output_type": "stream",
          "name": "stdout",
          "text": [
            "The bottom 5 ids with the lowest score are\n",
            "id: 558; score: 0.0003286018525215297\n",
            "id: 93; score: 0.00035135689375165774\n",
            "id: 62; score: 0.00035314810510596274\n",
            "id: 424; score: 0.0003548153864930145\n",
            "id: 408; score: 0.00038779848719291705\n"
          ]
        }
      ]
    },
    {
      "cell_type": "code",
      "source": [
        "# HITS\n",
        "def set_matrix(x):\n",
        "  v = np.zeros(n)\n",
        "  v[x[1]] = 1\n",
        "  return (x[0], v)\n",
        "\n",
        "# change the starting node from 1 to 0\n",
        "edges = graph.map(lambda line: line.split()).map(lambda x: (int(x[0]) - 1, int(x[1]) - 1)).distinct()\n",
        "matrix = edges.map(lambda e: (e[0], [e[1]]))\n",
        "matrix = matrix.reduceByKey(lambda x, y: x + y).sortByKey()\n",
        "matrix = matrix.map(set_matrix)"
      ],
      "metadata": {
        "id": "kshhv0Vx6szZ"
      },
      "execution_count": null,
      "outputs": []
    },
    {
      "cell_type": "code",
      "source": [
        "h = np.ones(n)\n",
        "for i in range(40):\n",
        "  a = matrix.map(lambda x: x[1] * h[x[0]]).reduce(lambda x, y: x + y)\n",
        "  a /= np.max(a)\n",
        "  h = matrix.map(lambda x: x[1].dot(a)).collect()\n",
        "  h /= np.max(h)"
      ],
      "metadata": {
        "id": "O6ol9kJK9XRx"
      },
      "execution_count": null,
      "outputs": []
    },
    {
      "cell_type": "code",
      "source": [
        "h_top5 = np.argsort(h)[-5:] + 1\n",
        "h_top5 = h_top5[::-1]\n",
        "print(\"The top 5 ids with the highest hubbiness score are\")\n",
        "for i in range(5):\n",
        "  print(f\"id: {h_top5[i]}; score: {h[h_top5[i] - 1]}\")"
      ],
      "metadata": {
        "colab": {
          "base_uri": "https://localhost:8080/"
        },
        "id": "LzNATa0VAaSn",
        "outputId": "002cfa4f-b2f5-4a7b-c891-40538298eb47"
      },
      "execution_count": null,
      "outputs": [
        {
          "output_type": "stream",
          "name": "stdout",
          "text": [
            "The top 5 ids with the highest hubbiness score are\n",
            "id: 840; score: 1.0\n",
            "id: 155; score: 0.9499618624906541\n",
            "id: 234; score: 0.8986645288972265\n",
            "id: 389; score: 0.863417110184379\n",
            "id: 472; score: 0.8632841092495217\n"
          ]
        }
      ]
    },
    {
      "cell_type": "code",
      "source": [
        "h_bottom5 = np.argsort(h)[:5] + 1\n",
        "print(\"The bottom 5 ids with the lowest hubbiness score are\")\n",
        "for i in range(5):\n",
        "  print(f\"id: {h_bottom5[i]}; score: {h[h_bottom5[i] - 1]}\")"
      ],
      "metadata": {
        "colab": {
          "base_uri": "https://localhost:8080/"
        },
        "id": "3xSHrM5wDWwg",
        "outputId": "24c165fe-5f00-48ee-a79c-9bee3a6e90e3"
      },
      "execution_count": null,
      "outputs": [
        {
          "output_type": "stream",
          "name": "stdout",
          "text": [
            "The bottom 5 ids with the lowest hubbiness score are\n",
            "id: 23; score: 0.042066854890936534\n",
            "id: 835; score: 0.057790593544330165\n",
            "id: 141; score: 0.0645311764622518\n",
            "id: 539; score: 0.06602659373418493\n",
            "id: 889; score: 0.07678413939216454\n"
          ]
        }
      ]
    },
    {
      "cell_type": "code",
      "source": [
        "a_top5 = np.argsort(a)[-5:] + 1\n",
        "a_top5 = a_top5[::-1]\n",
        "print(\"The top 5 ids with the highest authority score are\")\n",
        "for i in range(5):\n",
        "  print(f\"id: {a_top5[i]}; score: {a[a_top5[i] - 1]}\")"
      ],
      "metadata": {
        "colab": {
          "base_uri": "https://localhost:8080/"
        },
        "id": "ihxt_8d_DwcJ",
        "outputId": "b22eaa63-b780-4b67-e62a-785773d367f2"
      },
      "execution_count": null,
      "outputs": [
        {
          "output_type": "stream",
          "name": "stdout",
          "text": [
            "The top 5 ids with the highest authority score are\n",
            "id: 893; score: 1.0\n",
            "id: 16; score: 0.9635572849634397\n",
            "id: 799; score: 0.9510158161074017\n",
            "id: 146; score: 0.9246703586198443\n",
            "id: 473; score: 0.899866197360405\n"
          ]
        }
      ]
    },
    {
      "cell_type": "code",
      "source": [
        "a_bottom5 = np.argsort(a)[:5] + 1\n",
        "print(\"The bottom 5 ids with the lowest authority score are\")\n",
        "for i in range(5):\n",
        "  print(f\"id: {a_bottom5[i]}; score: {a[a_bottom5[i] - 1]}\")"
      ],
      "metadata": {
        "colab": {
          "base_uri": "https://localhost:8080/"
        },
        "id": "-9O0Uv_lD0lM",
        "outputId": "67588cc5-0681-4851-a84b-fed335a7139c"
      },
      "execution_count": null,
      "outputs": [
        {
          "output_type": "stream",
          "name": "stdout",
          "text": [
            "The bottom 5 ids with the lowest authority score are\n",
            "id: 19; score: 0.056083163776076174\n",
            "id: 135; score: 0.06653910487622795\n",
            "id: 462; score: 0.075442286246419\n",
            "id: 24; score: 0.08171239406816945\n",
            "id: 910; score: 0.08571673456144878\n"
          ]
        }
      ]
    }
  ]
}