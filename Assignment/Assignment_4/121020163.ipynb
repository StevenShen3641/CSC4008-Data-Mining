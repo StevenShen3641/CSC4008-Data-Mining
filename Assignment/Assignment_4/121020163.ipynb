{
  "nbformat": 4,
  "nbformat_minor": 0,
  "metadata": {
    "colab": {
      "provenance": []
    },
    "kernelspec": {
      "name": "python3",
      "display_name": "Python 3"
    },
    "language_info": {
      "name": "python"
    }
  },
  "cells": [
    {
      "cell_type": "code",
      "execution_count": 1,
      "metadata": {
        "colab": {
          "base_uri": "https://localhost:8080/"
        },
        "id": "DQCnpwfz-SVJ",
        "outputId": "19dae291-9923-40a4-f003-a2e03a136cbe"
      },
      "outputs": [
        {
          "output_type": "stream",
          "name": "stdout",
          "text": [
            "Collecting pyspark\n",
            "  Downloading pyspark-3.5.0.tar.gz (316.9 MB)\n",
            "\u001b[2K     \u001b[90m━━━━━━━━━━━━━━━━━━━━━━━━━━━━━━━━━━━━━━━━\u001b[0m \u001b[32m316.9/316.9 MB\u001b[0m \u001b[31m2.1 MB/s\u001b[0m eta \u001b[36m0:00:00\u001b[0m\n",
            "\u001b[?25h  Preparing metadata (setup.py) ... \u001b[?25l\u001b[?25hdone\n",
            "Requirement already satisfied: py4j==0.10.9.7 in /usr/local/lib/python3.10/dist-packages (from pyspark) (0.10.9.7)\n",
            "Building wheels for collected packages: pyspark\n",
            "  Building wheel for pyspark (setup.py) ... \u001b[?25l\u001b[?25hdone\n",
            "  Created wheel for pyspark: filename=pyspark-3.5.0-py2.py3-none-any.whl size=317425344 sha256=98a0e08f99263454284754f3d575de00b5a295297baa8d3b3433b3c3c1f80584\n",
            "  Stored in directory: /root/.cache/pip/wheels/41/4e/10/c2cf2467f71c678cfc8a6b9ac9241e5e44a01940da8fbb17fc\n",
            "Successfully built pyspark\n",
            "Installing collected packages: pyspark\n",
            "Successfully installed pyspark-3.5.0\n",
            "The following additional packages will be installed:\n",
            "  libxtst6 openjdk-8-jre-headless\n",
            "Suggested packages:\n",
            "  openjdk-8-demo openjdk-8-source libnss-mdns fonts-dejavu-extra fonts-nanum fonts-ipafont-gothic\n",
            "  fonts-ipafont-mincho fonts-wqy-microhei fonts-wqy-zenhei fonts-indic\n",
            "The following NEW packages will be installed:\n",
            "  libxtst6 openjdk-8-jdk-headless openjdk-8-jre-headless\n",
            "0 upgraded, 3 newly installed, 0 to remove and 11 not upgraded.\n",
            "Need to get 39.7 MB of archives.\n",
            "After this operation, 144 MB of additional disk space will be used.\n",
            "Selecting previously unselected package libxtst6:amd64.\n",
            "(Reading database ... 120880 files and directories currently installed.)\n",
            "Preparing to unpack .../libxtst6_2%3a1.2.3-1build4_amd64.deb ...\n",
            "Unpacking libxtst6:amd64 (2:1.2.3-1build4) ...\n",
            "Selecting previously unselected package openjdk-8-jre-headless:amd64.\n",
            "Preparing to unpack .../openjdk-8-jre-headless_8u382-ga-1~22.04.1_amd64.deb ...\n",
            "Unpacking openjdk-8-jre-headless:amd64 (8u382-ga-1~22.04.1) ...\n",
            "Selecting previously unselected package openjdk-8-jdk-headless:amd64.\n",
            "Preparing to unpack .../openjdk-8-jdk-headless_8u382-ga-1~22.04.1_amd64.deb ...\n",
            "Unpacking openjdk-8-jdk-headless:amd64 (8u382-ga-1~22.04.1) ...\n",
            "Setting up libxtst6:amd64 (2:1.2.3-1build4) ...\n",
            "Setting up openjdk-8-jre-headless:amd64 (8u382-ga-1~22.04.1) ...\n",
            "update-alternatives: using /usr/lib/jvm/java-8-openjdk-amd64/jre/bin/orbd to provide /usr/bin/orbd (orbd) in auto mode\n",
            "update-alternatives: using /usr/lib/jvm/java-8-openjdk-amd64/jre/bin/servertool to provide /usr/bin/servertool (servertool) in auto mode\n",
            "update-alternatives: using /usr/lib/jvm/java-8-openjdk-amd64/jre/bin/tnameserv to provide /usr/bin/tnameserv (tnameserv) in auto mode\n",
            "Setting up openjdk-8-jdk-headless:amd64 (8u382-ga-1~22.04.1) ...\n",
            "update-alternatives: using /usr/lib/jvm/java-8-openjdk-amd64/bin/clhsdb to provide /usr/bin/clhsdb (clhsdb) in auto mode\n",
            "update-alternatives: using /usr/lib/jvm/java-8-openjdk-amd64/bin/extcheck to provide /usr/bin/extcheck (extcheck) in auto mode\n",
            "update-alternatives: using /usr/lib/jvm/java-8-openjdk-amd64/bin/hsdb to provide /usr/bin/hsdb (hsdb) in auto mode\n",
            "update-alternatives: using /usr/lib/jvm/java-8-openjdk-amd64/bin/idlj to provide /usr/bin/idlj (idlj) in auto mode\n",
            "update-alternatives: using /usr/lib/jvm/java-8-openjdk-amd64/bin/javah to provide /usr/bin/javah (javah) in auto mode\n",
            "update-alternatives: using /usr/lib/jvm/java-8-openjdk-amd64/bin/jhat to provide /usr/bin/jhat (jhat) in auto mode\n",
            "update-alternatives: using /usr/lib/jvm/java-8-openjdk-amd64/bin/jsadebugd to provide /usr/bin/jsadebugd (jsadebugd) in auto mode\n",
            "update-alternatives: using /usr/lib/jvm/java-8-openjdk-amd64/bin/native2ascii to provide /usr/bin/native2ascii (native2ascii) in auto mode\n",
            "update-alternatives: using /usr/lib/jvm/java-8-openjdk-amd64/bin/schemagen to provide /usr/bin/schemagen (schemagen) in auto mode\n",
            "update-alternatives: using /usr/lib/jvm/java-8-openjdk-amd64/bin/wsgen to provide /usr/bin/wsgen (wsgen) in auto mode\n",
            "update-alternatives: using /usr/lib/jvm/java-8-openjdk-amd64/bin/wsimport to provide /usr/bin/wsimport (wsimport) in auto mode\n",
            "update-alternatives: using /usr/lib/jvm/java-8-openjdk-amd64/bin/xjc to provide /usr/bin/xjc (xjc) in auto mode\n",
            "Processing triggers for libc-bin (2.35-0ubuntu3.4) ...\n",
            "/sbin/ldconfig.real: /usr/local/lib/libtbbbind.so.3 is not a symbolic link\n",
            "\n",
            "/sbin/ldconfig.real: /usr/local/lib/libtbbmalloc.so.2 is not a symbolic link\n",
            "\n",
            "/sbin/ldconfig.real: /usr/local/lib/libtbbbind_2_5.so.3 is not a symbolic link\n",
            "\n",
            "/sbin/ldconfig.real: /usr/local/lib/libtbb.so.12 is not a symbolic link\n",
            "\n",
            "/sbin/ldconfig.real: /usr/local/lib/libtbbmalloc_proxy.so.2 is not a symbolic link\n",
            "\n",
            "/sbin/ldconfig.real: /usr/local/lib/libtbbbind_2_0.so.3 is not a symbolic link\n",
            "\n"
          ]
        }
      ],
      "source": [
        "!pip install pyspark\n",
        "!pip install -U -q PyDrive\n",
        "!apt install openjdk-8-jdk-headless -qq"
      ]
    },
    {
      "cell_type": "code",
      "source": [
        "import os\n",
        "os.environ[\"JAVA_HOME\"] = \"/usr/lib/jvm/java-8-openjdk-amd64\""
      ],
      "metadata": {
        "id": "GbqapJv8-bJO"
      },
      "execution_count": 2,
      "outputs": []
    },
    {
      "cell_type": "code",
      "source": [
        "from pydrive.auth import GoogleAuth\n",
        "from pydrive.drive import GoogleDrive\n",
        "from google.colab import auth\n",
        "from oauth2client.client import GoogleCredentials\n",
        "\n",
        "# Authenticate and create the PyDrive client\n",
        "auth.authenticate_user()\n",
        "gauth = GoogleAuth()\n",
        "gauth.credentials = GoogleCredentials.get_application_default()\n",
        "drive = GoogleDrive(gauth)"
      ],
      "metadata": {
        "id": "njw2tHdR-dPk"
      },
      "execution_count": 3,
      "outputs": []
    },
    {
      "cell_type": "code",
      "source": [
        "# Let's import the libraries we will need\n",
        "import matplotlib.pyplot as plt\n",
        "%matplotlib inline\n",
        "\n",
        "import pyspark\n",
        "from pyspark.sql import *\n",
        "from pyspark import SparkContext, SparkConf"
      ],
      "metadata": {
        "id": "LCy2G2N7_Cd-"
      },
      "execution_count": 4,
      "outputs": []
    },
    {
      "cell_type": "code",
      "source": [
        "# initiate SparkContext\n",
        "conf = SparkConf().setAppName(\"ChihaoShen\").setMaster(\"local[*]\")\n",
        "sc = SparkContext(conf=conf)\n",
        "spark = SparkSession.builder.getOrCreate()\n",
        "spark"
      ],
      "metadata": {
        "colab": {
          "base_uri": "https://localhost:8080/",
          "height": 214
        },
        "id": "xVmyyFDu_VXW",
        "outputId": "0c11c46a-5d1d-4a51-8d8a-301f8b6edc9b"
      },
      "execution_count": 5,
      "outputs": [
        {
          "output_type": "execute_result",
          "data": {
            "text/plain": [
              "<pyspark.sql.session.SparkSession at 0x7a4b49864a30>"
            ],
            "text/html": [
              "\n",
              "            <div>\n",
              "                <p><b>SparkSession - in-memory</b></p>\n",
              "                \n",
              "        <div>\n",
              "            <p><b>SparkContext</b></p>\n",
              "\n",
              "            <p><a href=\"http://adf6039bdded:4040\">Spark UI</a></p>\n",
              "\n",
              "            <dl>\n",
              "              <dt>Version</dt>\n",
              "                <dd><code>v3.5.0</code></dd>\n",
              "              <dt>Master</dt>\n",
              "                <dd><code>local[*]</code></dd>\n",
              "              <dt>AppName</dt>\n",
              "                <dd><code>ChihaoShen</code></dd>\n",
              "            </dl>\n",
              "        </div>\n",
              "        \n",
              "            </div>\n",
              "        "
            ]
          },
          "metadata": {},
          "execution_count": 5
        }
      ]
    },
    {
      "cell_type": "markdown",
      "source": [
        "# Q1"
      ],
      "metadata": {
        "id": "02aiNSpSABLY"
      }
    },
    {
      "cell_type": "code",
      "source": [
        "id='1E-voIV2ctU4Brw022Na8RHVVRGOoNkO1'\n",
        "downloaded = drive.CreateFile({'id': id})\n",
        "downloaded.GetContentFile('data.txt')\n",
        "\n",
        "id='1yXNlZWMqUcAwDScBrkFChOHJwR1FZXmI'\n",
        "downloaded = drive.CreateFile({'id': id})\n",
        "downloaded.GetContentFile('c1.txt')\n",
        "\n",
        "id='1vfovle9DgaeK0LnbQTH0j7kRaJjsvLtb'\n",
        "downloaded = drive.CreateFile({'id': id})\n",
        "downloaded.GetContentFile('c2.txt')"
      ],
      "metadata": {
        "id": "khTMNDFbBcFe"
      },
      "execution_count": 6,
      "outputs": []
    },
    {
      "cell_type": "code",
      "source": [
        "# get data\n",
        "data = sc.textFile('data.txt').map(lambda line: [float(x) for x in line.split()])\n",
        "random_centroids = sc.textFile('c1.txt').map(lambda line: [float(x) for x in line.split()]).collect()\n",
        "dispersed_centroids = sc.textFile('c2.txt').map(lambda line: [float(x) for x in line.split()]).collect()"
      ],
      "metadata": {
        "id": "1clcP3vr_sWc"
      },
      "execution_count": 7,
      "outputs": []
    },
    {
      "cell_type": "code",
      "source": [
        "# constants\n",
        "MAX_ITER = 20\n",
        "k = 10"
      ],
      "metadata": {
        "id": "ezBEvXIvAbHF"
      },
      "execution_count": 8,
      "outputs": []
    },
    {
      "cell_type": "code",
      "source": [
        "# some necessary functions\n",
        "def assign_Euc(point, centroids):\n",
        "  # Euclidean distance\n",
        "  distances = []\n",
        "  for centroid in centroids:\n",
        "    d = 0\n",
        "    for a, b in zip(point, centroid):\n",
        "      d += (a - b) ** 2\n",
        "    distances.append(d)\n",
        "  return [distances.index(min(distances)), min(distances)]"
      ],
      "metadata": {
        "id": "TW7f3OHCC_jB"
      },
      "execution_count": 9,
      "outputs": []
    },
    {
      "cell_type": "code",
      "source": [
        "# random centroid\n",
        "random_costs = []\n",
        "centroids = random_centroids\n",
        "for i in range(MAX_ITER):\n",
        "  clusters = data.map(lambda x: (assign_Euc(x, centroids), x)).map(lambda x: (x[0][0], [x[0][1], x[1]]))\n",
        "  random_costs.append(clusters.map(lambda x: x[1][0]).reduce(lambda x, y: x + y))\n",
        "  centroids = clusters.map(lambda x: (x[0], x[1][1])).groupByKey().mapValues(lambda points: [sum(x) / len(points) for x in zip(*points)]).values().collect()\n",
        "print(random_costs)\n",
        "# [623660345.3064113, 509862908.2975454, 485480681.8720084, 463997011.68501294, 460969266.5729968, 460537847.9827684, 460313099.6535447, 460003523.8894081, 459570539.3177352, 459021103.3422909, 458490656.1919812, 457944232.5879751, 457558005.1986773, 457290136.35230196, 457050555.05956286, 456892235.61535585, 456703630.7370345, 456404203.01897514, 456177800.541994, 455986871.0273468]"
      ],
      "metadata": {
        "colab": {
          "base_uri": "https://localhost:8080/"
        },
        "id": "QqIC98njK83z",
        "outputId": "6cff708a-20e4-474b-ab71-34fe65861ef9"
      },
      "execution_count": 10,
      "outputs": [
        {
          "output_type": "stream",
          "name": "stdout",
          "text": [
            "[623660345.3064113, 509862908.2975454, 485480681.8720084, 463997011.68501294, 460969266.5729968, 460537847.9827684, 460313099.6535447, 460003523.8894081, 459570539.3177352, 459021103.3422909, 458490656.1919812, 457944232.5879751, 457558005.1986773, 457290136.35230196, 457050555.05956286, 456892235.61535585, 456703630.7370345, 456404203.01897514, 456177800.541994, 455986871.0273468]\n"
          ]
        }
      ]
    },
    {
      "cell_type": "code",
      "source": [
        "# dispersed centroid\n",
        "dispersed_costs = []\n",
        "centroids = dispersed_centroids\n",
        "for i in range(MAX_ITER):\n",
        "  clusters = data.map(lambda x: (assign_Euc(x, centroids), x)).map(lambda x: (x[0][0], [x[0][1], x[1]]))\n",
        "  dispersed_costs.append(clusters.map(lambda x: x[1][0]).reduce(lambda x, y: x + y))\n",
        "  centroids = clusters.map(lambda x: (x[0], x[1][1])).groupByKey().mapValues(lambda points: [sum(x) / len(points) for x in zip(*points)]).values().collect()\n",
        "print(dispersed_costs)\n",
        "# [438747790.02791756, 249803933.62600276, 194494814.40631253, 169804841.4515432, 156295748.8062759, 149094208.10896596, 142508531.61961532, 132303869.40652987, 117170969.83719075, 108547377.17857003, 102237203.3179959, 98278015.74975666, 95630226.12177408, 93793314.051193, 92377131.96821065, 91541606.25423889, 91045573.83042458, 90752240.10140811, 90470170.18122731, 90216416.1756313]"
      ],
      "metadata": {
        "colab": {
          "base_uri": "https://localhost:8080/"
        },
        "id": "9wxUh0owfrQt",
        "outputId": "036cf523-1198-4ceb-c556-1741c7fff36d"
      },
      "execution_count": 11,
      "outputs": [
        {
          "output_type": "stream",
          "name": "stdout",
          "text": [
            "[438747790.02791756, 249803933.62600276, 194494814.40631253, 169804841.4515432, 156295748.8062759, 149094208.10896596, 142508531.61961532, 132303869.40652987, 117170969.83719075, 108547377.17857003, 102237203.3179959, 98278015.74975666, 95630226.12177408, 93793314.051193, 92377131.96821065, 91541606.25423889, 91045573.83042458, 90752240.10140811, 90470170.18122731, 90216416.1756313]\n"
          ]
        }
      ]
    },
    {
      "cell_type": "code",
      "source": [
        "# plot\n",
        "plt.plot(range(1, MAX_ITER + 1), random_costs, label='Random Centroids')\n",
        "plt.plot(range(1, MAX_ITER + 1), dispersed_costs, label='Dispersed Centroids')\n",
        "plt.xlabel('Number of Iterations')\n",
        "plt.ylabel('Cost Function ϕ(i)')\n",
        "plt.title('Euclidean distance for K-Means')\n",
        "plt.legend()\n",
        "plt.show()"
      ],
      "metadata": {
        "colab": {
          "base_uri": "https://localhost:8080/",
          "height": 472
        },
        "id": "DE-0TCrjjpJT",
        "outputId": "3d787b75-5a0c-45a3-d538-925326952bf3"
      },
      "execution_count": 12,
      "outputs": [
        {
          "output_type": "display_data",
          "data": {
            "text/plain": [
              "<Figure size 640x480 with 1 Axes>"
            ],
            "image/png": "[encoded data removed]"
          },
          "metadata": {}
        }
      ]
    },
    {
      "cell_type": "code",
      "source": [
        "# percentage change\n",
        "print(f\"percentage change in cost after 10 iterations of random centroids is {(random_costs[0] - random_costs[10]) / random_costs[0]}\")\n",
        "print(f\"percentage change in cost after 10 iterations of dispersed centroids is {(dispersed_costs[0] - dispersed_costs[10]) / dispersed_costs[0]}\")"
      ],
      "metadata": {
        "colab": {
          "base_uri": "https://localhost:8080/"
        },
        "id": "GwNyRGNrrdLR",
        "outputId": "4a68d743-ee42-4621-8146-de2892680ab2"
      },
      "execution_count": 13,
      "outputs": [
        {
          "output_type": "stream",
          "name": "stdout",
          "text": [
            "percentage change in cost after 10 iterations of random centroids is 0.2648391714456053\n",
            "percentage change in cost after 10 iterations of dispersed centroids is 0.7669795594605946\n"
          ]
        }
      ]
    },
    {
      "cell_type": "code",
      "source": [
        "# some necessary functions\n",
        "def assign_Manh(point, centroids):\n",
        "  # Euclidean distance\n",
        "  distances = []\n",
        "  for centroid in centroids:\n",
        "    d = 0\n",
        "    for a, b in zip(point, centroid):\n",
        "      d += abs(a - b)\n",
        "    distances.append(d)\n",
        "  return [distances.index(min(distances)), min(distances)]"
      ],
      "metadata": {
        "id": "UN4jzMjWmT32"
      },
      "execution_count": 14,
      "outputs": []
    },
    {
      "cell_type": "code",
      "source": [
        "# random centroid\n",
        "random_costs = []\n",
        "centroids = random_centroids\n",
        "for i in range(MAX_ITER):\n",
        "  clusters = data.map(lambda x: (assign_Manh(x, centroids), x)).map(lambda x: (x[0][0], [x[0][1], x[1]]))\n",
        "  random_costs.append(clusters.map(lambda x: x[1][0]).reduce(lambda x, y: x + y))\n",
        "  centroids = clusters.map(lambda x: (x[0], x[1][1])).groupByKey().mapValues(lambda points: [sum(x) / len(points) for x in zip(*points)]).values().collect()\n",
        "print(random_costs)\n",
        "# [550117.1419999995, 464869.2758792968, 470897.382277298, 483914.4091733451, 489216.07100343006, 487629.66854997986, 483711.9232137447, 475330.77349323116, 474871.2388463625, 457232.92011507833, 447494.38619735045, 450915.0125766762, 451250.36707256647, 451974.59553974995, 451570.36406995635, 452739.01136645605, 453082.73028718407, 450583.670860298, 450368.74931674276, 449011.36372551974]"
      ],
      "metadata": {
        "colab": {
          "base_uri": "https://localhost:8080/"
        },
        "id": "czvcNmp5p3lI",
        "outputId": "b28ab2b4-c32b-4b0e-cecb-0897c08a48ad"
      },
      "execution_count": 15,
      "outputs": [
        {
          "output_type": "stream",
          "name": "stdout",
          "text": [
            "[550117.1419999995, 464869.2758792968, 470897.382277298, 483914.4091733451, 489216.07100343006, 487629.66854997986, 483711.9232137447, 475330.77349323116, 474871.2388463625, 457232.92011507833, 447494.38619735045, 450915.0125766762, 451250.36707256647, 451974.59553974995, 451570.36406995635, 452739.01136645605, 453082.73028718407, 450583.670860298, 450368.74931674276, 449011.36372551974]\n"
          ]
        }
      ]
    },
    {
      "cell_type": "code",
      "source": [
        "# dispersed centroid\n",
        "dispersed_costs = []\n",
        "centroids = dispersed_centroids\n",
        "for i in range(MAX_ITER):\n",
        "  clusters = data.map(lambda x: (assign_Manh(x, centroids), x)).map(lambda x: (x[0][0], [x[0][1], x[1]]))\n",
        "  dispersed_costs.append(clusters.map(lambda x: x[1][0]).reduce(lambda x, y: x + y))\n",
        "  centroids = clusters.map(lambda x: (x[0], x[1][1])).groupByKey().mapValues(lambda points: [sum(x) / len(points) for x in zip(*points)]).values().collect()\n",
        "print(dispersed_costs)\n",
        "# [1433739.3099999954, 1084488.7769648773, 973431.7146620404, 895934.592563071, 865128.3352940815, 845846.647031348, 827219.5827561248, 803590.3456011117, 756039.5172761207, 717332.9025432297, 694587.9252526882, 684444.5019967904, 674574.7475478561, 667409.469916028, 663556.6278215044, 660162.7772287563, 656041.3222947121, 653036.7540731612, 651112.4262522729, 649689.0131843555]"
      ],
      "metadata": {
        "colab": {
          "base_uri": "https://localhost:8080/"
        },
        "id": "gwhFz3dHp9Go",
        "outputId": "3b229883-4ce8-46b8-a14f-b11e6d1776fd"
      },
      "execution_count": 16,
      "outputs": [
        {
          "output_type": "stream",
          "name": "stdout",
          "text": [
            "[1433739.3099999954, 1084488.7769648773, 973431.7146620404, 895934.592563071, 865128.3352940815, 845846.647031348, 827219.5827561248, 803590.3456011117, 756039.5172761207, 717332.9025432297, 694587.9252526882, 684444.5019967904, 674574.7475478561, 667409.469916028, 663556.6278215044, 660162.7772287563, 656041.3222947121, 653036.7540731612, 651112.4262522729, 649689.0131843555]\n"
          ]
        }
      ]
    },
    {
      "cell_type": "code",
      "source": [
        "# plot\n",
        "plt.plot(range(1, MAX_ITER + 1), random_costs, label='Random Centroids')\n",
        "plt.plot(range(1, MAX_ITER + 1), dispersed_costs, label='Dispersed Centroids')\n",
        "plt.xlabel('Number of Iterations')\n",
        "plt.ylabel('Cost Function ψ(i)')\n",
        "plt.title('Manhattan distance for K-Means')\n",
        "plt.legend()\n",
        "plt.show()"
      ],
      "metadata": {
        "colab": {
          "base_uri": "https://localhost:8080/",
          "height": 472
        },
        "id": "XpmiCT-1qbKM",
        "outputId": "d3628997-6887-4716-a475-58d2a3cd41ff"
      },
      "execution_count": 17,
      "outputs": [
        {
          "output_type": "display_data",
          "data": {
            "text/plain": [
              "<Figure size 640x480 with 1 Axes>"
            ],
            "image/png": "[encoded data removed]"
          },
          "metadata": {}
        }
      ]
    },
    {
      "cell_type": "code",
      "source": [
        "# percentage change\n",
        "print(f\"Percentage change in cost after 10 iterations of random centroids is {(random_costs[0] - random_costs[10]) / random_costs[0]}\")\n",
        "print(f\"Percentage change in cost after 10 iterations of dispersed centroids is {(dispersed_costs[0] - dispersed_costs[10]) / dispersed_costs[0]}\")"
      ],
      "metadata": {
        "colab": {
          "base_uri": "https://localhost:8080/"
        },
        "id": "Vm5guGvjvFp_",
        "outputId": "0c02546e-1134-4024-ce72-a9b523244aad"
      },
      "execution_count": 18,
      "outputs": [
        {
          "output_type": "stream",
          "name": "stdout",
          "text": [
            "Percentage change in cost after 10 iterations of random centroids is 0.18654709691385904\n",
            "Percentage change in cost after 10 iterations of dispersed centroids is 0.515540991023891\n"
          ]
        }
      ]
    },
    {
      "cell_type": "markdown",
      "source": [
        "# Q2"
      ],
      "metadata": {
        "id": "FuC3Mux1_YF8"
      }
    },
    {
      "cell_type": "code",
      "source": [
        "import numpy as np\n"
      ],
      "metadata": {
        "id": "8L5GUNd__Uy2"
      },
      "execution_count": 19,
      "outputs": []
    },
    {
      "cell_type": "code",
      "source": [
        "user_shows_path = \"/content/drive/MyDrive/CSC4008/ass/ass4/user-shows.txt\"\n",
        "shows_path = \"/content/drive/MyDrive/CSC4008/ass/ass4/shows.txt\""
      ],
      "metadata": {
        "id": "TmxdKZKSr6y5"
      },
      "execution_count": 20,
      "outputs": []
    },
    {
      "cell_type": "code",
      "source": [
        "R = np.loadtxt(user_shows_path)\n",
        "f = open(shows_path, 'r')\n",
        "shows = []\n",
        "for i in f.readlines():\n",
        "  shows.append(i.replace('\\n', '').replace('\"', ''))"
      ],
      "metadata": {
        "id": "nJrgPUO-tJw_"
      },
      "execution_count": 21,
      "outputs": []
    },
    {
      "cell_type": "code",
      "source": [
        "# 1. Compute the matrices P and Q\n",
        "P = np.diag(np.sum(R, axis=1))\n",
        "Q = np.diag(np.sum(R, axis=0))\n",
        "print(P)\n",
        "print(Q)"
      ],
      "metadata": {
        "colab": {
          "base_uri": "https://localhost:8080/"
        },
        "id": "Cv6YXvU3uY93",
        "outputId": "7cbdcbf6-c9aa-463d-932d-ff3aa60f5627"
      },
      "execution_count": 22,
      "outputs": [
        {
          "output_type": "stream",
          "name": "stdout",
          "text": [
            "[[35.  0.  0. ...  0.  0.  0.]\n",
            " [ 0. 26.  0. ...  0.  0.  0.]\n",
            " [ 0.  0. 44. ...  0.  0.  0.]\n",
            " ...\n",
            " [ 0.  0.  0. ...  5.  0.  0.]\n",
            " [ 0.  0.  0. ...  0. 30.  0.]\n",
            " [ 0.  0.  0. ...  0.  0. 19.]]\n",
            "[[1089.    0.    0. ...    0.    0.    0.]\n",
            " [   0. 3350.    0. ...    0.    0.    0.]\n",
            " [   0.    0. 3187. ...    0.    0.    0.]\n",
            " ...\n",
            " [   0.    0.    0. ...  358.    0.    0.]\n",
            " [   0.    0.    0. ...    0.  294.    0.]\n",
            " [   0.    0.    0. ...    0.    0.    6.]]\n"
          ]
        }
      ]
    },
    {
      "cell_type": "code",
      "source": [
        "# 2. compute Γ for the user-user collaborative filtering and give the five highest TV shows\n",
        "sqrt_P = P\n",
        "non_zero_elements = np.nonzero(sqrt_P)\n",
        "sqrt_P[non_zero_elements] = 1 / np.sqrt(sqrt_P[non_zero_elements])\n",
        "user_gamma = np.dot(np.dot(np.dot(np.dot(sqrt_P, R), R.T), sqrt_P), R)\n",
        "print(user_gamma)"
      ],
      "metadata": {
        "colab": {
          "base_uri": "https://localhost:8080/"
        },
        "id": "CbBIqLOkwZrU",
        "outputId": "ae8edd04-5796-44fa-f053-8e04c72df602"
      },
      "execution_count": 23,
      "outputs": [
        {
          "output_type": "stream",
          "name": "stdout",
          "text": [
            "[[2.38694740e+02 6.23151008e+02 5.71703488e+02 ... 4.83274279e+01\n",
            "  4.21198998e+01 1.13858692e+00]\n",
            " [1.33694107e+02 4.19077188e+02 4.02414436e+02 ... 4.54437612e+01\n",
            "  3.30921828e+01 8.77272416e-01]\n",
            " [2.11111685e+02 7.62741976e+02 6.67605242e+02 ... 6.40146288e+01\n",
            "  6.02625946e+01 1.19935843e+00]\n",
            " ...\n",
            " [1.15245426e+02 4.80104040e+02 3.20864824e+02 ... 2.40099342e+01\n",
            "  2.40418785e+01 7.23715847e-01]\n",
            " [1.08032264e+02 3.39089352e+02 3.65569102e+02 ... 4.03555262e+01\n",
            "  2.95288560e+01 6.09419012e-01]\n",
            " [1.66264271e+02 5.63207472e+02 5.31698345e+02 ... 4.65848688e+01\n",
            "  4.67656966e+01 7.94526464e-01]]\n"
          ]
        }
      ]
    },
    {
      "cell_type": "code",
      "source": [
        "rcmd = np.argsort(user_gamma[499, :100])[-5:][::-1]\n",
        "top_five = [shows[i] for i in rcmd]\n",
        "print(\"From all the TV shows, the five that have the highest similarity scores for Alex are:\")\n",
        "for i in top_five:\n",
        "  print(i)"
      ],
      "metadata": {
        "colab": {
          "base_uri": "https://localhost:8080/"
        },
        "id": "x73L2S0AzUxm",
        "outputId": "b4fad701-e10c-429f-8246-47b63ef6c6e1"
      },
      "execution_count": 24,
      "outputs": [
        {
          "output_type": "stream",
          "name": "stdout",
          "text": [
            "From all the TV shows, the five that have the highest similarity scores for Alex are:\n",
            "FOX 28 News at 10pm\n",
            "Family Guy\n",
            "2009 NCAA Basketball Tournament\n",
            "NBC 4 at Eleven\n",
            "Two and a Half Men\n"
          ]
        }
      ]
    },
    {
      "cell_type": "code",
      "source": [
        "# 2. compute Γ for the movie-movie collaborative filtering and give the five highest TV shows\n",
        "sqrt_Q = Q\n",
        "non_zero_elements = np.nonzero(sqrt_Q)\n",
        "sqrt_Q[non_zero_elements] = 1 / np.sqrt(sqrt_Q[non_zero_elements])\n",
        "item_gamma = np.dot(np.dot(np.dot(np.dot(R, sqrt_Q), R.T), R), sqrt_Q)\n",
        "print(item_gamma)"
      ],
      "metadata": {
        "colab": {
          "base_uri": "https://localhost:8080/"
        },
        "id": "uYSR3W3_2jhs",
        "outputId": "93e31172-eafd-46ee-d470-4783971bcd6d"
      },
      "execution_count": 25,
      "outputs": [
        {
          "output_type": "stream",
          "name": "stdout",
          "text": [
            "[[ 9.60753925 13.10317571 12.23318216 ...  3.21104654  3.1958345\n",
            "   0.5460337 ]\n",
            " [ 4.36209878  7.69620486  7.48711214 ...  2.5659889   2.16145674\n",
            "   0.35271962]\n",
            " [ 8.38784944 16.61201283 14.99775822 ...  4.48553862  4.63638336\n",
            "   0.57006572]\n",
            " ...\n",
            " [ 1.35142806  3.06385022  2.19960949 ...  0.505658    0.56492792\n",
            "   0.10841235]\n",
            " [ 4.30668052  7.52755966  7.98718359 ...  2.76060253  2.31754441\n",
            "   0.32536496]\n",
            " [ 4.09378095  7.67177907  7.51854526 ...  2.04293639  2.28842818\n",
            "   0.26419831]]\n"
          ]
        }
      ]
    },
    {
      "cell_type": "code",
      "source": [
        "rcmd = np.argsort(item_gamma[499, :100])[-5:][::-1]\n",
        "top_five = [shows[i] for i in rcmd]\n",
        "print(\"From all the TV shows, the five that have the highest similarity scores for Alex are:\")\n",
        "for i in top_five:\n",
        "  print(i)"
      ],
      "metadata": {
        "colab": {
          "base_uri": "https://localhost:8080/"
        },
        "id": "jNLUxako4E6-",
        "outputId": "e5d9422c-c15e-4444-d4c1-4b943b695218"
      },
      "execution_count": 26,
      "outputs": [
        {
          "output_type": "stream",
          "name": "stdout",
          "text": [
            "From all the TV shows, the five that have the highest similarity scores for Alex are:\n",
            "FOX 28 News at 10pm\n",
            "Family Guy\n",
            "NBC 4 at Eleven\n",
            "2009 NCAA Basketball Tournament\n",
            "Access Hollywood\n"
          ]
        }
      ]
    }
  ]
}